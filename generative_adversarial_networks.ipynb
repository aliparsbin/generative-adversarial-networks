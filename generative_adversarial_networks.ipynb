{
 "cells": [
  {
   "cell_type": "markdown",
   "metadata": {},
   "source": [
    "# Generative Adversarial Networks"
   ]
  },
  {
   "cell_type": "markdown",
   "metadata": {},
   "source": [
    "## Common Functions"
   ]
  },
  {
   "cell_type": "code",
   "execution_count": 2,
   "metadata": {},
   "outputs": [
    {
     "name": "stdout",
     "output_type": "stream",
     "text": [
      "device is cuda\n"
     ]
    }
   ],
   "source": [
    "import torch\n",
    "import torch.nn as nn\n",
    "import numpy as np\n",
    "import matplotlib.pyplot as plt\n",
    "import torchvision\n",
    "from torchvision import transforms\n",
    "from torch.utils.data import DataLoader\n",
    "\n",
    "device = \"cuda\" if torch.cuda.is_available() else \"cpu\"\n",
    "print(f\"device is {device}\")"
   ]
  },
  {
   "cell_type": "code",
   "execution_count": 3,
   "metadata": {},
   "outputs": [],
   "source": [
    "# Show sample some images of a batch\n",
    "def show_images(batch, num_images=8, num_rows=2, num_cols=4):\n",
    "    batch = batch.squeeze()\n",
    "    for i in range(num_images):\n",
    "        plt.subplot(num_rows, num_cols, i+1)\n",
    "        plt.imshow(batch[i], cmap=\"gray\")\n",
    "        plt.axis(False)\n",
    "    plt.show()"
   ]
  },
  {
   "cell_type": "code",
   "execution_count": 4,
   "metadata": {},
   "outputs": [],
   "source": [
    "# Create a noise vector\n",
    "def create_noise(batch_size, noise_size, mode_noise, device):\n",
    "    if mode_noise == 'uniform':\n",
    "        input_z = torch.rand(size=(batch_size, noise_size), device=device) * 2 - 1\n",
    "    elif mode_noise == 'normal':\n",
    "        input_z = torch.randn(size=(batch_size, noise_size), device=device)\n",
    "    return input_z"
   ]
  },
  {
   "cell_type": "code",
   "execution_count": 5,
   "metadata": {},
   "outputs": [],
   "source": [
    "# Save the model\n",
    "from pathlib import Path\n",
    "\n",
    "def save_generative_adversarial_model(generator:nn.Module,\n",
    "                                      discriminator:nn.Module,\n",
    "                                      methodology:str):\n",
    "    # 1. Create models directory\n",
    "    MODEL_PATH = Path(\"models/\"+methodology)\n",
    "    MODEL_PATH.mkdir(parents=True, exist_ok=True)\n",
    "\n",
    "    # 2. Create a model save path for generator and discriminator models\n",
    "    MODEL_NAME_G = \"generator.pth\" #files most be saved with the extension of either .pth or .pt\n",
    "    MODEL_NAME_D = \"discriminator.pth\"\n",
    "\n",
    "    MODEL_SAVE_PATH_G = MODEL_PATH / MODEL_NAME_G\n",
    "    MODEL_SAVE_PATH_D = MODEL_PATH / MODEL_NAME_D\n",
    "\n",
    "    # Save models state_dict()\n",
    "    print(f\"Saving model to: {MODEL_SAVE_PATH_G}\")\n",
    "    torch.save(obj=generator.state_dict(), f=MODEL_SAVE_PATH_G)\n",
    "\n",
    "    print(f\"Saving model to: {MODEL_SAVE_PATH_D}\")\n",
    "    torch.save(obj=discriminator.state_dict(), f=MODEL_SAVE_PATH_D)"
   ]
  },
  {
   "cell_type": "markdown",
   "metadata": {},
   "source": [
    "## 1. Vanilla GAN"
   ]
  },
  {
   "cell_type": "markdown",
   "metadata": {},
   "source": [
    "### 1.1 Generator Network"
   ]
  },
  {
   "cell_type": "code",
   "execution_count": null,
   "metadata": {},
   "outputs": [],
   "source": [
    "class Generator(nn.Module):\n",
    "    def __init__(self, input_size, hidden_units, output_shape):\n",
    "        super().__init__()\n",
    "\n",
    "        self.model = nn.Sequential(nn.Linear(input_size, hidden_units),\n",
    "                                   nn.LeakyReLU(0.01),\n",
    "                                   nn.Linear(hidden_units, np.prod(output_shape)),\n",
    "                                   nn.Tanh(),\n",
    "                                   nn.Unflatten(1, output_shape))\n",
    "        \n",
    "    def forward(self, z):\n",
    "        return self.model(z)"
   ]
  },
  {
   "cell_type": "code",
   "execution_count": null,
   "metadata": {},
   "outputs": [],
   "source": [
    "z = torch.randn(size=(32, 20), device=device)\n",
    "\n",
    "output_shape = (1, 28, 28)\n",
    "\n",
    "generator_test = Generator(input_size=20, hidden_units=100, output_shape=output_shape).to(device)\n",
    "\n",
    "print(generator_test)\n",
    "\n",
    "generator_test.eval()\n",
    "with torch.inference_mode():\n",
    "    generated_images = generator_test(z)\n",
    "    print(generated_images.shape)\n",
    "    plt.imshow(generated_images[0][0].cpu(),  cmap=\"gray\")\n"
   ]
  },
  {
   "cell_type": "markdown",
   "metadata": {},
   "source": [
    "### 1.2 Discriminator Network"
   ]
  },
  {
   "cell_type": "code",
   "execution_count": null,
   "metadata": {},
   "outputs": [],
   "source": [
    "class Discriminator(nn.Module):\n",
    "    def __init__(self, input_shape, hidden_units):\n",
    "        super().__init__()\n",
    "        \n",
    "        self.model = nn.Sequential(nn.Flatten(),\n",
    "                                   nn.Linear(np.prod(input_shape), hidden_units),\n",
    "                                   nn.LeakyReLU(0.01),\n",
    "                                   nn.Dropout(0.5),\n",
    "                                   nn.Linear(hidden_units, 1),\n",
    "                                   nn.Sigmoid())\n",
    "\n",
    "    def forward(self, x):\n",
    "        return self.model(x)"
   ]
  },
  {
   "cell_type": "code",
   "execution_count": null,
   "metadata": {},
   "outputs": [],
   "source": [
    "input_shape = generated_images[0].shape\n",
    "discriminator_test = Discriminator(input_shape=input_shape, hidden_units=100).to(device)\n",
    "\n",
    "print(discriminator_test)\n",
    "\n",
    "discriminator_test.eval()\n",
    "with torch.inference_mode():\n",
    "    prob = discriminator_test(generated_images[0])\n",
    "    print(prob)"
   ]
  },
  {
   "cell_type": "markdown",
   "metadata": {},
   "source": [
    "### 1.3 Loading MNIST Dataset"
   ]
  },
  {
   "cell_type": "code",
   "execution_count": null,
   "metadata": {},
   "outputs": [],
   "source": [
    "image_path = \"./\"\n",
    "\n",
    "transform = transforms.Compose([\n",
    "    transforms.ToTensor(),\n",
    "    transforms.Normalize(mean=(0.5), std=(0.5)) # Normalize images pixels values to be rescaled in the range [-1, 1]\n",
    "])\n",
    "\n",
    "mnist_dataset = torchvision.datasets.MNIST(\n",
    "    root=image_path, train=True,\n",
    "    transform=transform, download=True\n",
    ")\n",
    "\n",
    "image, label = next(iter(mnist_dataset))\n",
    "print(f\"image shape: {image.shape} | image min value: {image.min()} | image max value: {image.max()}\")"
   ]
  },
  {
   "cell_type": "markdown",
   "metadata": {},
   "source": [
    "### 1.4 Creating Data Loader"
   ]
  },
  {
   "cell_type": "code",
   "execution_count": null,
   "metadata": {},
   "outputs": [],
   "source": [
    "batch_size = 32\n",
    "mode_noise = 'uniform'\n",
    "noise_size = 20\n",
    "\n",
    "data_loader = DataLoader(mnist_dataset, batch_size=batch_size, shuffle=True)\n",
    "\n",
    "input_real, label = next(iter(data_loader))\n",
    "# input_real = input_real.view(batch_size, -1)\n",
    "\n",
    "input_z = create_noise(batch_size, noise_size, mode_noise, device=device)\n",
    "print(f\"noise vector shape: {input_z.shape} | real image shape: {input_real.shape}\")\n",
    "show_images(input_real)"
   ]
  },
  {
   "cell_type": "markdown",
   "metadata": {},
   "source": [
    "### 1.5 Defining hyperparameters, generator, discriminator, loss function and optimizers "
   ]
  },
  {
   "cell_type": "code",
   "execution_count": null,
   "metadata": {},
   "outputs": [],
   "source": [
    "batch_size = 32\n",
    "noise_size = 20\n",
    "hidden_units = 100\n",
    "\n",
    "torch.manual_seed(42)\n",
    "np.random.seed(42)\n",
    "\n",
    "mnist_dataloader = DataLoader(mnist_dataset, batch_size=batch_size,\n",
    "                              shuffle=True, drop_last=True) # Drop Last parameter ignores the last batch\n",
    "\n",
    "image_shape = next(iter(mnist_dataloader))[0][0].shape\n",
    "\n",
    "generator = Generator(noise_size, hidden_units, image_shape).to(device)\n",
    "discriminator = Discriminator(image_shape, hidden_units).to(device)\n",
    "\n",
    "loss_fn = nn.BCELoss()\n",
    "g_optimizer = torch.optim.Adam(params=generator.parameters())\n",
    "d_optimizer = torch.optim.Adam(params=discriminator.parameters())"
   ]
  },
  {
   "cell_type": "markdown",
   "metadata": {},
   "source": [
    "### 1.6 Training Loop"
   ]
  },
  {
   "cell_type": "code",
   "execution_count": null,
   "metadata": {},
   "outputs": [],
   "source": [
    "### Training the generative adversarial network\n",
    "def train(dataloader:DataLoader, batch_size:int, discriminator:nn, genereator:nn, loss_fn:nn,\n",
    "           g_optimizer:torch.optim.Optimizer, d_optimizer:torch.optim.Optimizer, device):\n",
    "    \n",
    "    valid_labels = torch.ones(size=(batch_size,1), device=device)\n",
    "    fake_labels = torch.zeros(size=(batch_size,1), device=device)\n",
    "\n",
    "    for i, batch in enumerate(dataloader):\n",
    "        real_image, label = batch\n",
    "        real_image = real_image.to(device)\n",
    "        # print(real_image.shape)\n",
    "\n",
    "        ## Training Discriminator\n",
    "        discriminator.train()\n",
    "        noise_vec = create_noise(batch_size, noise_size, mode_noise, device)\n",
    "        fake_image = generator(noise_vec)\n",
    "\n",
    "        # Forward pass\n",
    "        d_prob_real = discriminator(real_image)\n",
    "        d_prob_fake = discriminator(fake_image)\n",
    "\n",
    "        # Calculate the loss\n",
    "        d_loss_real = loss_fn(d_prob_real, valid_labels)\n",
    "        d_loss_fake = loss_fn(d_prob_fake, fake_labels)\n",
    "        d_loss = d_loss_fake + d_loss_real\n",
    "\n",
    "        # Optimizer zero grad\n",
    "        d_optimizer.zero_grad()\n",
    "\n",
    "        # Loss backward\n",
    "        d_loss.backward()\n",
    "\n",
    "        # Optimizer step\n",
    "        d_optimizer.step()\n",
    "\n",
    "        ## Triaining Generator\n",
    "        generator.train()\n",
    "\n",
    "        # Forward pass\n",
    "        noise_vec = create_noise(batch_size, noise_size, mode_noise, device)\n",
    "        fake_image = generator(noise_vec)\n",
    "\n",
    "        # Calculate the loss\n",
    "        g_prob_fake = discriminator(fake_image)\n",
    "        g_loss = loss_fn(g_prob_fake, valid_labels)\n",
    "\n",
    "        # Optimizer zero grad\n",
    "        g_optimizer.zero_grad()\n",
    "\n",
    "        # Loss backward\n",
    "        g_loss.backward()\n",
    "\n",
    "        # Optimizer step\n",
    "        g_optimizer.step()\n",
    "        \n",
    "        if (i+1)%500 == 0: \n",
    "            print(f\"Batch: {i+1}/{len(dataloader)} | Discriminator Loss: {d_loss} | Generator Loss: {g_loss}\")\n",
    "    return (d_loss_real, d_loss_fake, d_loss, g_loss)"
   ]
  },
  {
   "cell_type": "code",
   "execution_count": null,
   "metadata": {},
   "outputs": [],
   "source": [
    "# Training for number of epochs\n",
    "num_epochs = 100\n",
    "\n",
    "all_d_fake_losses = []\n",
    "all_d_real_losses = []\n",
    "all_d_losses = []\n",
    "all_g_losses = []\n",
    "\n",
    "for epoch in range(num_epochs):\n",
    "    print(f\"\\nEpoch: {epoch+1}\")\n",
    "    d_loss_real, d_loss_fake, d_loss, g_loss = train(dataloader=data_loader, batch_size=32,\n",
    "          discriminator=discriminator, genereator=generator,\n",
    "          loss_fn=loss_fn, g_optimizer=g_optimizer, d_optimizer=d_optimizer,\n",
    "          device=device)\n",
    "    \n",
    "    all_d_real_losses.append(d_loss_real.cpu().detach().numpy())\n",
    "    all_d_fake_losses.append(d_loss_fake.cpu().detach().numpy())\n",
    "    all_d_losses.append(d_loss.cpu().detach().numpy())\n",
    "    all_g_losses.append(g_loss.cpu().detach().numpy())\n",
    "\n",
    "    ## Evaluation\n",
    "    if (epoch+1) % 10 == 0:\n",
    "        generator.eval()\n",
    "        with torch.inference_mode():\n",
    "            noise_vec = create_noise(batch_size, noise_size, mode_noise, device)\n",
    "            fake_images = generator(noise_vec)\n",
    "            show_images(fake_images.cpu(), num_images=8, num_cols=4, num_rows=2)\n",
    "          "
   ]
  },
  {
   "cell_type": "markdown",
   "metadata": {},
   "source": [
    "### 1.7 Plotting losses for generator and discriminator"
   ]
  },
  {
   "cell_type": "code",
   "execution_count": null,
   "metadata": {},
   "outputs": [],
   "source": [
    "# Ploting losses\n",
    "all_g_losses = [all_g_loss for all_g_loss in all_g_losses]\n",
    "print(all_g_losses)\n",
    "fig = plt.figure(figsize=(8,6))\n",
    "ax = fig.add_subplot(1, 1, 1)\n",
    "plt.plot(all_g_losses, label='Generator Loss')\n",
    "\n",
    "half_d_losses = [all_d_loss/2 for all_d_loss in all_d_losses]\n",
    "plt.plot(half_d_losses, label='Discriminator Loss')\n",
    "\n",
    "plt.legend(fontsize=20)\n",
    "ax.set_xlabel('iteration', size=15)\n",
    "ax.set_ylabel('Loss', size=15)"
   ]
  },
  {
   "cell_type": "markdown",
   "metadata": {},
   "source": [
    "## 2. Deep Convolutional Generative Adversarial Network"
   ]
  },
  {
   "cell_type": "markdown",
   "metadata": {},
   "source": [
    "### 2.1 Generator Network"
   ]
  },
  {
   "cell_type": "code",
   "execution_count": null,
   "metadata": {},
   "outputs": [],
   "source": [
    "class Generator(nn.Module):\n",
    "    def __init__(self, input_size, n_filters):\n",
    "        super().__init__()\n",
    "        self.model = nn.Sequential(nn.ConvTranspose2d(input_size, n_filters*4,\n",
    "                                                       kernel_size=4, stride=1,\n",
    "                                                       padding=0, bias=False),\n",
    "                                    nn.BatchNorm2d(n_filters*4),\n",
    "                                    nn.LeakyReLU(0.2),\n",
    "                                    nn.ConvTranspose2d(n_filters*4, n_filters*2,\n",
    "                                                       kernel_size=3, stride=2,\n",
    "                                                       padding=1, bias=False),\n",
    "                                    nn.BatchNorm2d(n_filters*2),\n",
    "                                    nn.LeakyReLU(0.2),\n",
    "                                    nn.ConvTranspose2d(n_filters*2, n_filters,\n",
    "                                                       kernel_size=4, stride=2,\n",
    "                                                       padding=1, bias=False),\n",
    "                                    nn.BatchNorm2d(n_filters),\n",
    "                                    nn.LeakyReLU(0.2),\n",
    "                                    nn.ConvTranspose2d(n_filters, 1,\n",
    "                                                       kernel_size=4, stride=2,\n",
    "                                                       padding=1, bias=False),\n",
    "                                    nn.Tanh())\n",
    "    \n",
    "    def forward(self, z):\n",
    "        return self.model(z)"
   ]
  },
  {
   "cell_type": "code",
   "execution_count": null,
   "metadata": {},
   "outputs": [],
   "source": [
    "z_size = 100\n",
    "n_filters = 32\n",
    "\n",
    "generator_test  = Generator(input_size=z_size, n_filters=n_filters).to(device)\n",
    "\n",
    "print(generator_test)\n",
    "\n",
    "z = torch.randn(size=(32,100,1,1), device=device)\n",
    "generator_test.eval()\n",
    "with torch.inference_mode():\n",
    "    generated_image = generator_test(z)\n",
    "    print(generated_image.shape)"
   ]
  },
  {
   "cell_type": "markdown",
   "metadata": {},
   "source": [
    "### 2.2 Discriminator Network"
   ]
  },
  {
   "cell_type": "code",
   "execution_count": null,
   "metadata": {},
   "outputs": [],
   "source": [
    "class Discriminator(nn.Module):\n",
    "    def __init__(self, n_filters):\n",
    "        super().__init__()\n",
    "        self.model = nn.Sequential(nn.Conv2d(1, n_filters,\n",
    "                                              kernel_size=4, stride=2,\n",
    "                                              padding=1, bias=False),\n",
    "                                   nn.LeakyReLU(0.2),\n",
    "                                   nn.Conv2d(n_filters, n_filters*2,\n",
    "                                             kernel_size=4, stride=2,\n",
    "                                             padding=1, bias=False),\n",
    "                                   nn.BatchNorm2d(n_filters*2),\n",
    "                                   nn.LeakyReLU(0.2),\n",
    "                                   nn.Conv2d(n_filters*2, n_filters*4,\n",
    "                                             kernel_size=3, stride=2,\n",
    "                                             padding=1, bias=False),\n",
    "                                   nn.BatchNorm2d(n_filters*4),\n",
    "                                   nn.LeakyReLU(0.2),\n",
    "                                   nn.Conv2d(n_filters*4, 1,\n",
    "                                             kernel_size=4,stride=1,\n",
    "                                             padding=0, bias=False),\n",
    "                                   nn.Sigmoid())\n",
    "    def forward(self, x):\n",
    "        output = self.model(x)\n",
    "        return output.view(-1, 1).squeeze(0)"
   ]
  },
  {
   "cell_type": "code",
   "execution_count": null,
   "metadata": {},
   "outputs": [],
   "source": [
    "n_filters=32\n",
    "discriminator_test = Discriminator(n_filters=n_filters).to(device)\n",
    "print(discriminator_test)\n",
    "\n",
    "sample_batch = torch.randn(size=(32,1, 28, 28), device=device)\n",
    "\n",
    "discriminator_test.eval()\n",
    "with torch.inference_mode():\n",
    "    prob = discriminator_test(sample_batch)\n",
    "    print(prob.shape)"
   ]
  },
  {
   "cell_type": "markdown",
   "metadata": {},
   "source": [
    "### 2.3 Loading MNIST Dataset"
   ]
  },
  {
   "cell_type": "code",
   "execution_count": null,
   "metadata": {},
   "outputs": [],
   "source": [
    "image_path = \"./\"\n",
    "\n",
    "transform = transforms.Compose([\n",
    "    transforms.ToTensor(),\n",
    "    transforms.Normalize(mean=(0.5), std=(0.5)) # Normalize images pixels values to be rescaled in the range [-1, 1]\n",
    "])\n",
    "\n",
    "mnist_dataset = torchvision.datasets.MNIST(\n",
    "    root=image_path, train=True,\n",
    "    transform=transform, download=True\n",
    ")\n",
    "\n",
    "image, label = next(iter(mnist_dataset))\n",
    "print(f\"image shape: {image.shape} | image min value: {image.min()} | image max value: {image.max()}\")"
   ]
  },
  {
   "cell_type": "markdown",
   "metadata": {},
   "source": [
    "### 2.4 Creating Data Loader"
   ]
  },
  {
   "cell_type": "code",
   "execution_count": null,
   "metadata": {},
   "outputs": [],
   "source": [
    "batch_size = 32\n",
    "mode_noise = 'uniform'\n",
    "noise_size = 100\n",
    "\n",
    "data_loader = DataLoader(mnist_dataset, batch_size=batch_size, shuffle=True)\n",
    "\n",
    "input_real, label = next(iter(data_loader))\n",
    "# input_real = input_real.view(batch_size, -1)\n",
    "\n",
    "input_z = create_noise(batch_size, noise_size, mode_noise, device=device)\n",
    "print(f\"noise vector shape: {input_z.shape} | real image shape: {input_real.shape}\")\n",
    "show_images(input_real)"
   ]
  },
  {
   "cell_type": "markdown",
   "metadata": {},
   "source": [
    "### 2.5 Defining hyperparameters, generator, discriminator, loss function and optimizers"
   ]
  },
  {
   "cell_type": "code",
   "execution_count": 42,
   "metadata": {},
   "outputs": [],
   "source": [
    "batch_size = 32\n",
    "mode_noise = 'uniform'\n",
    "noise_size = 100\n",
    "n_filters = 32\n",
    "\n",
    "generator = Generator(noise_size, n_filters).to(device)\n",
    "discriminator = Discriminator(n_filters).to(device)\n",
    "\n",
    "loss_fn = nn.BCELoss()\n",
    "optimizer_g = torch.optim.Adam(params=generator.parameters(), lr=0.0003)\n",
    "optimizer_d = torch.optim.Adam(params=discriminator.parameters(), lr=0.0002)"
   ]
  },
  {
   "cell_type": "markdown",
   "metadata": {},
   "source": [
    "### 2.6 Training Loop"
   ]
  },
  {
   "cell_type": "code",
   "execution_count": 43,
   "metadata": {},
   "outputs": [],
   "source": [
    "def train(dataloader:DataLoader,\n",
    "          generator:nn.Module,\n",
    "          discriminator:nn.Module,\n",
    "          loss_fn:nn.Module,\n",
    "          optimizer_d:torch.optim.Optimizer,\n",
    "          optimizer_g:torch.optim.Optimizer,\n",
    "          batch_size:int,\n",
    "          noise_size:int,\n",
    "          mode_noise:str,\n",
    "          device:str):\n",
    "    \n",
    "    valid_labels = torch.ones(size=(batch_size, 1), device=device)\n",
    "    fake_labels = torch.zeros(size=(batch_size, 1), device=device)\n",
    "\n",
    "    for i, batch in enumerate(dataloader):\n",
    "        image_real, label_real = batch\n",
    "        image_real = image_real.to(device)\n",
    "      #   print(type(image_real))\n",
    "        ## Training Discriminator\n",
    "        discriminator.train()\n",
    "        ### Forward pass\n",
    "        z_vector = create_noise(batch_size, noise_size, mode_noise, device).unsqueeze(dim=2).unsqueeze(dim=3)\n",
    "        image_fake = generator(z_vector)\n",
    "        prob_real = discriminator(image_real)\n",
    "        prob_fake = discriminator(image_fake)\n",
    "        ### Calculate loss\n",
    "        loss_d_real = loss_fn(prob_real, valid_labels)\n",
    "        loss_d_fake = loss_fn(prob_fake, fake_labels)\n",
    "        loss_d = loss_d_real + loss_d_fake\n",
    "        ###  Optimizer zero grad\n",
    "        optimizer_d.zero_grad()\n",
    "        ### Loss backward\n",
    "        loss_d.backward()\n",
    "        ### Optimizer step\n",
    "        optimizer_d.step()\n",
    "        \n",
    "        ## Training Generator\n",
    "        generator.train()\n",
    "        ### Forward pass\n",
    "        z_vector = create_noise(batch_size, noise_size, mode_noise, device).unsqueeze(dim=2).unsqueeze(dim=3)\n",
    "        image_fake = generator(z_vector)\n",
    "        prob_fake = discriminator(image_fake)\n",
    "        ### Calculate the loss\n",
    "        loss_g = loss_fn(prob_fake, valid_labels)\n",
    "        ### Optimzer zero grad\n",
    "        optimizer_g.zero_grad()\n",
    "        ### Loss backward\n",
    "        loss_g.backward()\n",
    "        ### Optimizer step\n",
    "        optimizer_g.step()\n",
    "        if (i+1) % 500 == 0:\n",
    "              print(f\"Batch {i+1}/{len(dataloader)} | Discriminator Loss: {loss_d} | Generator Loss: {loss_g}\")\n",
    "    return (loss_d, loss_g)"
   ]
  },
  {
   "cell_type": "code",
   "execution_count": 44,
   "metadata": {},
   "outputs": [
    {
     "name": "stdout",
     "output_type": "stream",
     "text": [
      "\n",
      "Epoch: 1\n",
      "Batch 500/1875 | Discriminator Loss: 0.20200228691101074 | Generator Loss: 5.583239555358887\n",
      "Batch 1000/1875 | Discriminator Loss: 0.12081443518400192 | Generator Loss: 4.879373550415039\n",
      "Batch 1500/1875 | Discriminator Loss: 0.18039637804031372 | Generator Loss: 4.593994140625\n",
      "\n",
      "Epoch: 2\n",
      "Batch 500/1875 | Discriminator Loss: 0.5184522867202759 | Generator Loss: 2.2701194286346436\n",
      "Batch 1000/1875 | Discriminator Loss: 0.3564128875732422 | Generator Loss: 3.556835174560547\n",
      "Batch 1500/1875 | Discriminator Loss: 0.723896861076355 | Generator Loss: 2.843599796295166\n",
      "\n",
      "Epoch: 3\n",
      "Batch 500/1875 | Discriminator Loss: 0.18396669626235962 | Generator Loss: 2.178955078125\n",
      "Batch 1000/1875 | Discriminator Loss: 0.26871776580810547 | Generator Loss: 1.4650429487228394\n",
      "Batch 1500/1875 | Discriminator Loss: 0.8353833556175232 | Generator Loss: 2.5823283195495605\n",
      "\n",
      "Epoch: 4\n",
      "Batch 500/1875 | Discriminator Loss: 0.42531275749206543 | Generator Loss: 3.8726794719696045\n",
      "Batch 1000/1875 | Discriminator Loss: 0.2127012461423874 | Generator Loss: 2.701577663421631\n",
      "Batch 1500/1875 | Discriminator Loss: 0.2553245425224304 | Generator Loss: 2.7112507820129395\n",
      "\n",
      "Epoch: 5\n",
      "Batch 500/1875 | Discriminator Loss: 0.18521660566329956 | Generator Loss: 1.1855149269104004\n",
      "Batch 1000/1875 | Discriminator Loss: 0.20517463982105255 | Generator Loss: 2.856064796447754\n",
      "Batch 1500/1875 | Discriminator Loss: 0.5064917802810669 | Generator Loss: 3.531126022338867\n"
     ]
    },
    {
     "data": {
      "image/png": "[encoded data removed]",
      "text/plain": [
       "<Figure size 640x480 with 8 Axes>"
      ]
     },
     "metadata": {},
     "output_type": "display_data"
    },
    {
     "name": "stdout",
     "output_type": "stream",
     "text": [
      "\n",
      "Epoch: 6\n",
      "Batch 500/1875 | Discriminator Loss: 0.2586435377597809 | Generator Loss: 2.27500581741333\n",
      "Batch 1000/1875 | Discriminator Loss: 0.300256609916687 | Generator Loss: 3.2662620544433594\n",
      "Batch 1500/1875 | Discriminator Loss: 0.21457554399967194 | Generator Loss: 1.8577653169631958\n",
      "\n",
      "Epoch: 7\n",
      "Batch 500/1875 | Discriminator Loss: 0.04618197679519653 | Generator Loss: 2.5550644397735596\n",
      "Batch 1000/1875 | Discriminator Loss: 0.01767527125775814 | Generator Loss: 4.265211582183838\n",
      "Batch 1500/1875 | Discriminator Loss: 0.31832224130630493 | Generator Loss: 4.04647970199585\n",
      "\n",
      "Epoch: 8\n",
      "Batch 500/1875 | Discriminator Loss: 0.2423257827758789 | Generator Loss: 4.656842231750488\n",
      "Batch 1000/1875 | Discriminator Loss: 0.0858248919248581 | Generator Loss: 2.3503687381744385\n",
      "Batch 1500/1875 | Discriminator Loss: 0.12338688224554062 | Generator Loss: 3.8730826377868652\n",
      "\n",
      "Epoch: 9\n",
      "Batch 500/1875 | Discriminator Loss: 0.5098925232887268 | Generator Loss: 4.927457332611084\n",
      "Batch 1000/1875 | Discriminator Loss: 0.1545667052268982 | Generator Loss: 2.9469316005706787\n",
      "Batch 1500/1875 | Discriminator Loss: 0.13766351342201233 | Generator Loss: 4.7823686599731445\n",
      "\n",
      "Epoch: 10\n",
      "Batch 500/1875 | Discriminator Loss: 0.3462603688240051 | Generator Loss: 3.792933464050293\n",
      "Batch 1000/1875 | Discriminator Loss: 0.17035144567489624 | Generator Loss: 3.0818822383880615\n",
      "Batch 1500/1875 | Discriminator Loss: 0.08359763026237488 | Generator Loss: 2.4446611404418945\n"
     ]
    },
    {
     "data": {
      "image/png": "[encoded data removed]",
      "text/plain": [
       "<Figure size 640x480 with 8 Axes>"
      ]
     },
     "metadata": {},
     "output_type": "display_data"
    },
    {
     "name": "stdout",
     "output_type": "stream",
     "text": [
      "\n",
      "Epoch: 11\n",
      "Batch 500/1875 | Discriminator Loss: 0.2514239251613617 | Generator Loss: 4.821900367736816\n",
      "Batch 1000/1875 | Discriminator Loss: 0.15719518065452576 | Generator Loss: 4.1135406494140625\n",
      "Batch 1500/1875 | Discriminator Loss: 0.14416436851024628 | Generator Loss: 4.349469184875488\n",
      "\n",
      "Epoch: 12\n",
      "Batch 500/1875 | Discriminator Loss: 0.18079151213169098 | Generator Loss: 4.251817226409912\n",
      "Batch 1000/1875 | Discriminator Loss: 0.2710319459438324 | Generator Loss: 2.606354236602783\n",
      "Batch 1500/1875 | Discriminator Loss: 0.09060734510421753 | Generator Loss: 3.639263868331909\n",
      "\n",
      "Epoch: 13\n",
      "Batch 500/1875 | Discriminator Loss: 0.08945488929748535 | Generator Loss: 6.607913970947266\n",
      "Batch 1000/1875 | Discriminator Loss: 0.02772563509643078 | Generator Loss: 4.263968467712402\n",
      "Batch 1500/1875 | Discriminator Loss: 0.09625743329524994 | Generator Loss: 3.946671962738037\n",
      "\n",
      "Epoch: 14\n",
      "Batch 500/1875 | Discriminator Loss: 0.1999586671590805 | Generator Loss: 5.5326762199401855\n",
      "Batch 1000/1875 | Discriminator Loss: 0.0529046431183815 | Generator Loss: 5.656604290008545\n",
      "Batch 1500/1875 | Discriminator Loss: 0.12307265400886536 | Generator Loss: 2.3642892837524414\n",
      "\n",
      "Epoch: 15\n",
      "Batch 500/1875 | Discriminator Loss: 0.051682110875844955 | Generator Loss: 3.30245304107666\n",
      "Batch 1000/1875 | Discriminator Loss: 0.14494743943214417 | Generator Loss: 6.5141096115112305\n",
      "Batch 1500/1875 | Discriminator Loss: 0.07538114488124847 | Generator Loss: 1.7091548442840576\n"
     ]
    },
    {
     "data": {
      "image/png": "[encoded data removed]",
      "text/plain": [
       "<Figure size 640x480 with 8 Axes>"
      ]
     },
     "metadata": {},
     "output_type": "display_data"
    },
    {
     "name": "stdout",
     "output_type": "stream",
     "text": [
      "\n",
      "Epoch: 16\n",
      "Batch 500/1875 | Discriminator Loss: 0.06745448708534241 | Generator Loss: 3.9433937072753906\n",
      "Batch 1000/1875 | Discriminator Loss: 0.13501574099063873 | Generator Loss: 4.729203224182129\n",
      "Batch 1500/1875 | Discriminator Loss: 0.09913815557956696 | Generator Loss: 6.603196144104004\n",
      "\n",
      "Epoch: 17\n",
      "Batch 500/1875 | Discriminator Loss: 0.08018813282251358 | Generator Loss: 4.842060565948486\n",
      "Batch 1000/1875 | Discriminator Loss: 0.034487783908843994 | Generator Loss: 3.0234570503234863\n",
      "Batch 1500/1875 | Discriminator Loss: 0.08425292372703552 | Generator Loss: 2.8505711555480957\n",
      "\n",
      "Epoch: 18\n",
      "Batch 500/1875 | Discriminator Loss: 0.17679843306541443 | Generator Loss: 2.2103841304779053\n",
      "Batch 1000/1875 | Discriminator Loss: 0.1356271654367447 | Generator Loss: 4.798044204711914\n",
      "Batch 1500/1875 | Discriminator Loss: 0.07872051000595093 | Generator Loss: 4.405983924865723\n",
      "\n",
      "Epoch: 19\n",
      "Batch 500/1875 | Discriminator Loss: 0.146473228931427 | Generator Loss: 3.9678168296813965\n",
      "Batch 1000/1875 | Discriminator Loss: 0.060053933411836624 | Generator Loss: 4.253176689147949\n",
      "Batch 1500/1875 | Discriminator Loss: 0.2192084640264511 | Generator Loss: 2.7839813232421875\n",
      "\n",
      "Epoch: 20\n",
      "Batch 500/1875 | Discriminator Loss: 0.04536624252796173 | Generator Loss: 4.777362823486328\n",
      "Batch 1000/1875 | Discriminator Loss: 0.2249595671892166 | Generator Loss: 5.3730621337890625\n",
      "Batch 1500/1875 | Discriminator Loss: 0.5169980525970459 | Generator Loss: 4.787067413330078\n"
     ]
    },
    {
     "data": {
      "image/png": "[encoded data removed]",
      "text/plain": [
       "<Figure size 640x480 with 8 Axes>"
      ]
     },
     "metadata": {},
     "output_type": "display_data"
    }
   ],
   "source": [
    "epochs = 20\n",
    "batch_size = 32\n",
    "mode_noise = 'uniform'\n",
    "noise_size = 100\n",
    "\n",
    "loss_d_all = []\n",
    "loss_g_all = []\n",
    "\n",
    "for epoch in range(epochs):\n",
    "    print(f\"\\nEpoch: {epoch+1}\")\n",
    "    loss_d, loss_g = train(data_loader,\n",
    "                           generator,\n",
    "                           discriminator,\n",
    "                           loss_fn,\n",
    "                           optimizer_d,\n",
    "                           optimizer_g,\n",
    "                           batch_size,\n",
    "                           noise_size,\n",
    "                           mode_noise,\n",
    "                           device)\n",
    "    loss_d_all.append(loss_d)\n",
    "    loss_g_all.append(loss_g)\n",
    "\n",
    "    if (epoch+1) % 5 == 0:\n",
    "        generator.eval()\n",
    "        with torch.inference_mode():\n",
    "            z = create_noise(batch_size,\n",
    "                             noise_size,\n",
    "                             mode_noise,\n",
    "                             device).unsqueeze(dim=2).unsqueeze(dim=3)\n",
    "            image_generated = generator(z)\n",
    "            show_images(image_generated.cpu())"
   ]
  },
  {
   "cell_type": "markdown",
   "metadata": {},
   "source": [
    "## 3. Conditional Generative Adversarial Networks"
   ]
  },
  {
   "cell_type": "markdown",
   "metadata": {},
   "source": [
    "### 3.1 Generator Network"
   ]
  },
  {
   "cell_type": "code",
   "execution_count": 314,
   "metadata": {},
   "outputs": [],
   "source": [
    "class Generator(nn.Module):\n",
    "    def __init__(self, z_size, label_size, n_filters):\n",
    "        super().__init__()\n",
    "\n",
    "        self.model = nn.Sequential( nn.Flatten(),\n",
    "                                    nn.Linear(z_size+label_size, 7*7*128),\n",
    "                                    nn.Unflatten(1, (128, 7, 7)),\n",
    "                                    nn.BatchNorm2d(n_filters*4),\n",
    "                                    nn.ConvTranspose2d(n_filters*4, n_filters*4,\n",
    "                                                       kernel_size=4, stride=2,\n",
    "                                                       padding=1, bias=False),\n",
    "                                    nn.BatchNorm2d(n_filters*4),\n",
    "                                    nn.ReLU(),\n",
    "                                    nn.ConvTranspose2d(n_filters*4, n_filters*2,\n",
    "                                                       kernel_size=4, stride=2,\n",
    "                                                       padding=1, bias=False),\n",
    "                                    nn.BatchNorm2d(n_filters*2),\n",
    "                                    nn.ReLU(),\n",
    "                                    nn.ConvTranspose2d(n_filters*2, n_filters,\n",
    "                                                       kernel_size=3, stride=1,\n",
    "                                                       padding=1, bias=False),\n",
    "                                    nn.BatchNorm2d(n_filters),\n",
    "                                    nn.ReLU(),\n",
    "                                    nn.ConvTranspose2d(n_filters, 1,\n",
    "                                                       kernel_size=3, stride=1,\n",
    "                                                       padding=1, bias=False),\n",
    "                                    nn.Tanh())\n",
    "    def forward(self, z, y):\n",
    "        concated_inputs = torch.cat((z, y), dim=1)\n",
    "        return self.model(concated_inputs)        "
   ]
  },
  {
   "cell_type": "code",
   "execution_count": 315,
   "metadata": {},
   "outputs": [
    {
     "name": "stdout",
     "output_type": "stream",
     "text": [
      "Genrated image:torch.Size([1, 1, 28, 28])\n"
     ]
    }
   ],
   "source": [
    "z = torch.randn((32, 100, 1, 1))\n",
    "y = torch.zeros((32, 10, 1, 1))\n",
    "y[:,torch.randint(0, 10, size=(1,))] = 1\n",
    "generator_test = Generator(z_size=100, label_size=10, n_filters=32)\n",
    "\n",
    "generator_test.eval()\n",
    "with torch.inference_mode():\n",
    "    generated_image = generator_test(z, y)\n",
    "    # print(f\"Label:{y[:1]}\\n\")\n",
    "    print(f\"Genrated image:{generated_image[:1].shape}\")"
   ]
  },
  {
   "cell_type": "markdown",
   "metadata": {},
   "source": [
    "### 3.2 Discriminator Network"
   ]
  },
  {
   "cell_type": "code",
   "execution_count": 316,
   "metadata": {},
   "outputs": [],
   "source": [
    "class Discriminator(nn.Module):\n",
    "    def __init__(self, label_size, n_filters):\n",
    "        super().__init__()\n",
    "        \n",
    "        self.label = nn.Sequential(nn.Flatten(),\n",
    "                                   nn.Linear(label_size, 7*7*16),\n",
    "                                   nn.Unflatten(1, (1, 28, 28)))\n",
    "        \n",
    "        self.model = nn.Sequential(nn.LeakyReLU(0.2),\n",
    "                                    nn.Conv2d(2, n_filters,\n",
    "                                              kernel_size=4, stride=2,\n",
    "                                              padding=1, bias=False),\n",
    "                                   nn.LeakyReLU(0.2),\n",
    "                                   nn.Conv2d(n_filters, n_filters*2,\n",
    "                                             kernel_size=4, stride=2,\n",
    "                                             padding=1, bias=False),\n",
    "                                #    nn.BatchNorm2d(n_filters*2),\n",
    "                                   nn.LeakyReLU(0.2),\n",
    "                                   nn.Conv2d(n_filters*2, n_filters*4,\n",
    "                                             kernel_size=3, stride=2,\n",
    "                                             padding=1, bias=False),\n",
    "                                #    nn.BatchNorm2d(n_filters*4),\n",
    "                                   nn.LeakyReLU(0.2),\n",
    "                                   nn.Conv2d(n_filters*4, 1,\n",
    "                                             kernel_size=4,stride=1,\n",
    "                                             padding=0, bias=False),\n",
    "                                   nn.Sigmoid())\n",
    "    def forward(self, x, y):\n",
    "        label_features = self.label(y)\n",
    "        # print(label_features.shape)\n",
    "        concated_inputs = torch.cat((x, label_features), dim=1)\n",
    "        return self.model(concated_inputs).view(-1, 1).squeeze(0)"
   ]
  },
  {
   "cell_type": "code",
   "execution_count": 317,
   "metadata": {},
   "outputs": [
    {
     "name": "stdout",
     "output_type": "stream",
     "text": [
      "torch.Size([32, 1])\n"
     ]
    }
   ],
   "source": [
    "discriminator_test = Discriminator(label_size=10, n_filters=32)\n",
    "\n",
    "sample_batch = torch.randn((32, 1, 28, 28))\n",
    "sample_labels = torch.zeros((32, 10, 1, 1))\n",
    "sample_labels[:,torch.randint(0, 10, size=(1,))] = 1\n",
    "\n",
    "discriminator_test.eval()\n",
    "with torch.inference_mode():\n",
    "    probs = discriminator_test(sample_batch, sample_labels)\n",
    "    print(probs.shape)"
   ]
  },
  {
   "cell_type": "markdown",
   "metadata": {},
   "source": [
    "### 3.3 Loading MNIST Dataset"
   ]
  },
  {
   "cell_type": "code",
   "execution_count": 318,
   "metadata": {},
   "outputs": [
    {
     "name": "stdout",
     "output_type": "stream",
     "text": [
      "image shape: torch.Size([1, 28, 28]) | image min value: -1.0 | image max value: 1.0\n"
     ]
    }
   ],
   "source": [
    "image_path = \"./\"\n",
    "\n",
    "transform = transforms.Compose([\n",
    "    transforms.ToTensor(),\n",
    "    transforms.Normalize(mean=(0.5), std=(0.5)) # Normalize images pixels values to be rescaled in the range [-1, 1]\n",
    "])\n",
    "\n",
    "mnist_dataset = torchvision.datasets.MNIST(\n",
    "    root=image_path, train=True,\n",
    "    transform=transform, download=True\n",
    ")\n",
    "\n",
    "image, label = next(iter(mnist_dataset))\n",
    "print(f\"image shape: {image.shape} | image min value: {image.min()} | image max value: {image.max()}\")"
   ]
  },
  {
   "cell_type": "markdown",
   "metadata": {},
   "source": [
    "### 3.4 Creating Data Loader"
   ]
  },
  {
   "cell_type": "code",
   "execution_count": 319,
   "metadata": {},
   "outputs": [
    {
     "name": "stdout",
     "output_type": "stream",
     "text": [
      "noise vector shape: torch.Size([32, 100]) | real image shape: torch.Size([32, 1, 28, 28])\n"
     ]
    },
    {
     "data": {
      "image/png": "[encoded data removed]",
      "text/plain": [
       "<Figure size 640x480 with 8 Axes>"
      ]
     },
     "metadata": {},
     "output_type": "display_data"
    }
   ],
   "source": [
    "batch_size = 32\n",
    "mode_noise = 'uniform'\n",
    "noise_size = 100\n",
    "label_size = 10\n",
    "n_filters = 32\n",
    "\n",
    "data_loader = DataLoader(mnist_dataset, batch_size=batch_size, shuffle=True)\n",
    "\n",
    "input_real, label = next(iter(data_loader))\n",
    "# input_real = input_real.view(batch_size, -1)\n",
    "\n",
    "input_z = create_noise(batch_size, noise_size, mode_noise, device=device)\n",
    "print(f\"noise vector shape: {input_z.shape} | real image shape: {input_real.shape}\")\n",
    "show_images(input_real)"
   ]
  },
  {
   "cell_type": "markdown",
   "metadata": {},
   "source": [
    "### 3.5 Defining hyperparameters, generators, discriminators, loss function and optimizers"
   ]
  },
  {
   "cell_type": "code",
   "execution_count": 320,
   "metadata": {},
   "outputs": [],
   "source": [
    "generator = Generator(z_size=noise_size,\n",
    "                       label_size=label_size,\n",
    "                         n_filters=n_filters).to(device)\n",
    "discriminator = Discriminator(label_size, n_filters).to(device)\n",
    "\n",
    "loss_fn = nn.BCELoss()\n",
    "\n",
    "optimizer_g = torch.optim.Adam(params=generator.parameters(), lr=0.0003)\n",
    "optimizer_d = torch.optim.Adam(params=discriminator.parameters(), lr=0.0002)"
   ]
  },
  {
   "cell_type": "code",
   "execution_count": 321,
   "metadata": {},
   "outputs": [],
   "source": [
    "def one_hot_encoder(data, data_size, batch_size, device):\n",
    "    encoded_data = torch.zeros(size=(batch_size, data_size, 1, 1), device=device)\n",
    "    ones_idxs = [data[i] for i in range(batch_size)]\n",
    "    for i in range(batch_size):\n",
    "        encoded_data[i,ones_idxs[i]] = 1\n",
    "    return encoded_data"
   ]
  },
  {
   "cell_type": "code",
   "execution_count": 322,
   "metadata": {},
   "outputs": [],
   "source": [
    "def random_labels(data_size, batch_size, device):\n",
    "    sample_labels = torch.zeros((batch_size, data_size, 1, 1), device=device)\n",
    "    for i in range(batch_size):\n",
    "        sample_labels[i,torch.randint(0, 10, size=(1,))] = 1\n",
    "    return sample_labels"
   ]
  },
  {
   "cell_type": "code",
   "execution_count": 323,
   "metadata": {},
   "outputs": [],
   "source": [
    "encoded_data = random_labels(data_size=10, batch_size=32, device=device)\n",
    "# print(encoded_data[0:3])"
   ]
  },
  {
   "cell_type": "markdown",
   "metadata": {},
   "source": [
    "### 3.6 Training Loop"
   ]
  },
  {
   "cell_type": "code",
   "execution_count": 324,
   "metadata": {},
   "outputs": [],
   "source": [
    "def train(dataloader:DataLoader,\n",
    "          generator:nn.Module,\n",
    "          discriminator:nn.Module,\n",
    "          loss_fn:nn.Module,\n",
    "          optimizer_d:torch.optim.Optimizer,\n",
    "          optimizer_g:torch.optim.Optimizer,\n",
    "          batch_size:int,\n",
    "          noise_size:int,\n",
    "          mode_noise:str,\n",
    "          device:str):\n",
    "    \n",
    "    valid = torch.ones(size=(batch_size, 1), device=device)\n",
    "    fake  = torch.zeros(size=(batch_size, 1), device=device)\n",
    "\n",
    "    for i, batch in enumerate(dataloader):\n",
    "        images_real, labels_real = batch\n",
    "        images_real, labels_real = images_real.to(device), labels_real.to(device)\n",
    "\n",
    "        ## Training Discriminator\n",
    "        discriminator.train()\n",
    "\n",
    "        ### Forward pass\n",
    "        z = create_noise(batch_size, noise_size, mode_noise, device).unsqueeze(dim=2).unsqueeze(dim=3)\n",
    "        labels_fake = random_labels(data_size=10, batch_size=batch_size, device=device)\n",
    "        labels_real = one_hot_encoder(labels_real, data_size=10, batch_size=batch_size, device=device)\n",
    "\n",
    "        images_fake = generator(z, labels_fake)\n",
    "      #   print(images_fake.shape)\n",
    "\n",
    "        prob_fake = discriminator(images_fake, labels_fake)\n",
    "        prob_real = discriminator(images_real, labels_real)\n",
    "\n",
    "        ### Calculate the loss\n",
    "        loss_d_fake = loss_fn(prob_fake, fake)\n",
    "        loss_d_real = loss_fn(prob_real, valid)\n",
    "        loss_d = loss_d_fake + loss_d_real\n",
    "\n",
    "        ### Optimizer zero grad\n",
    "        optimizer_d.zero_grad()\n",
    "\n",
    "        ### Loss backward\n",
    "        loss_d.backward()\n",
    "\n",
    "        ### Optimizer step\n",
    "        optimizer_d.step()\n",
    "\n",
    "        ## Training Generator\n",
    "        generator.train()\n",
    "\n",
    "        ### Forward pass\n",
    "        z = create_noise(batch_size, noise_size, mode_noise, device).unsqueeze(dim=2).unsqueeze(dim=3)\n",
    "        labels_fake = random_labels(data_size=10, batch_size=batch_size, device=device)\n",
    "        images_fake = generator(z, labels_fake)\n",
    "        prob_fake = discriminator(images_fake, labels_fake)\n",
    "\n",
    "        ### Calculate the loss\n",
    "        loss_g = loss_fn(prob_fake, valid)\n",
    "\n",
    "        ### Optimizer zero grad\n",
    "        optimizer_g.zero_grad()\n",
    "\n",
    "        ### Loss backward\n",
    "        loss_g.backward()\n",
    "\n",
    "        ### Optimizer step\n",
    "        optimizer_g.step()\n",
    "        if (i+1) % 500 == 0:\n",
    "              print(f\"Batch {i+1}/{len(dataloader)} | Discriminator Loss: {loss_d} | Generator Loss: {loss_g}\")\n",
    "    return (loss_d, loss_g)          "
   ]
  },
  {
   "cell_type": "code",
   "execution_count": 325,
   "metadata": {},
   "outputs": [
    {
     "name": "stdout",
     "output_type": "stream",
     "text": [
      "\n",
      " Epoch: 1\n",
      "Batch 500/1875 | Discriminator Loss: 0.06368068605661392 | Generator Loss: 3.8688292503356934\n",
      "Batch 1000/1875 | Discriminator Loss: 0.35055574774742126 | Generator Loss: 2.540496826171875\n",
      "Batch 1500/1875 | Discriminator Loss: 0.9592970609664917 | Generator Loss: 1.778541088104248\n",
      "\n",
      " Epoch: 2\n",
      "Batch 500/1875 | Discriminator Loss: 0.49500155448913574 | Generator Loss: 2.216033697128296\n",
      "Batch 1000/1875 | Discriminator Loss: 0.8725572824478149 | Generator Loss: 1.8875782489776611\n",
      "Batch 1500/1875 | Discriminator Loss: 1.055471420288086 | Generator Loss: 1.2634814977645874\n",
      "\n",
      " Epoch: 3\n",
      "Batch 500/1875 | Discriminator Loss: 0.7840648889541626 | Generator Loss: 1.6241636276245117\n",
      "Batch 1000/1875 | Discriminator Loss: 0.922207772731781 | Generator Loss: 1.1345093250274658\n",
      "Batch 1500/1875 | Discriminator Loss: 1.1548080444335938 | Generator Loss: 1.2718693017959595\n",
      "\n",
      " Epoch: 4\n",
      "Batch 500/1875 | Discriminator Loss: 1.327659249305725 | Generator Loss: 1.1984902620315552\n",
      "Batch 1000/1875 | Discriminator Loss: 1.270072340965271 | Generator Loss: 0.8880455493927002\n",
      "Batch 1500/1875 | Discriminator Loss: 1.2894947528839111 | Generator Loss: 0.8704394102096558\n",
      "\n",
      " Epoch: 5\n",
      "Batch 500/1875 | Discriminator Loss: 1.2978171110153198 | Generator Loss: 1.131993055343628\n",
      "Batch 1000/1875 | Discriminator Loss: 1.308800458908081 | Generator Loss: 0.6804779767990112\n",
      "Batch 1500/1875 | Discriminator Loss: 1.3918497562408447 | Generator Loss: 0.9106476902961731\n"
     ]
    },
    {
     "data": {
      "image/png": "[encoded data removed]",
      "text/plain": [
       "<Figure size 640x480 with 8 Axes>"
      ]
     },
     "metadata": {},
     "output_type": "display_data"
    },
    {
     "name": "stdout",
     "output_type": "stream",
     "text": [
      "\n",
      " Epoch: 6\n",
      "Batch 500/1875 | Discriminator Loss: 1.3611090183258057 | Generator Loss: 0.8306809663772583\n",
      "Batch 1000/1875 | Discriminator Loss: 1.3406217098236084 | Generator Loss: 0.7806193828582764\n",
      "Batch 1500/1875 | Discriminator Loss: 1.2236380577087402 | Generator Loss: 0.9093939065933228\n",
      "\n",
      " Epoch: 7\n",
      "Batch 500/1875 | Discriminator Loss: 1.2482882738113403 | Generator Loss: 0.7699974775314331\n",
      "Batch 1000/1875 | Discriminator Loss: 1.2516963481903076 | Generator Loss: 0.8800134658813477\n",
      "Batch 1500/1875 | Discriminator Loss: 1.2798876762390137 | Generator Loss: 0.695444643497467\n",
      "\n",
      " Epoch: 8\n",
      "Batch 500/1875 | Discriminator Loss: 1.3286211490631104 | Generator Loss: 0.780617356300354\n",
      "Batch 1000/1875 | Discriminator Loss: 1.3585948944091797 | Generator Loss: 0.8008609414100647\n",
      "Batch 1500/1875 | Discriminator Loss: 1.1289087533950806 | Generator Loss: 0.8216016292572021\n",
      "\n",
      " Epoch: 9\n",
      "Batch 500/1875 | Discriminator Loss: 1.3135521411895752 | Generator Loss: 0.6631807088851929\n",
      "Batch 1000/1875 | Discriminator Loss: 1.2923250198364258 | Generator Loss: 0.6990887522697449\n",
      "Batch 1500/1875 | Discriminator Loss: 1.3227734565734863 | Generator Loss: 0.8958664536476135\n",
      "\n",
      " Epoch: 10\n",
      "Batch 500/1875 | Discriminator Loss: 1.2885675430297852 | Generator Loss: 0.8877646923065186\n",
      "Batch 1000/1875 | Discriminator Loss: 1.2140921354293823 | Generator Loss: 0.9383035898208618\n",
      "Batch 1500/1875 | Discriminator Loss: 1.303607702255249 | Generator Loss: 0.8127589225769043\n"
     ]
    },
    {
     "data": {
      "image/png": "[encoded data removed]",
      "text/plain": [
       "<Figure size 640x480 with 8 Axes>"
      ]
     },
     "metadata": {},
     "output_type": "display_data"
    },
    {
     "name": "stdout",
     "output_type": "stream",
     "text": [
      "\n",
      " Epoch: 11\n",
      "Batch 500/1875 | Discriminator Loss: 1.372603416442871 | Generator Loss: 0.7925159931182861\n",
      "Batch 1000/1875 | Discriminator Loss: 1.4307305812835693 | Generator Loss: 0.8477630019187927\n",
      "Batch 1500/1875 | Discriminator Loss: 1.2709177732467651 | Generator Loss: 0.7189134359359741\n",
      "\n",
      " Epoch: 12\n",
      "Batch 500/1875 | Discriminator Loss: 1.362485408782959 | Generator Loss: 1.0039821863174438\n",
      "Batch 1000/1875 | Discriminator Loss: 1.2880597114562988 | Generator Loss: 0.6825345754623413\n",
      "Batch 1500/1875 | Discriminator Loss: 1.4693851470947266 | Generator Loss: 0.6553189158439636\n",
      "\n",
      " Epoch: 13\n",
      "Batch 500/1875 | Discriminator Loss: 1.4251089096069336 | Generator Loss: 0.8141937255859375\n",
      "Batch 1000/1875 | Discriminator Loss: 1.3975696563720703 | Generator Loss: 0.6962043046951294\n",
      "Batch 1500/1875 | Discriminator Loss: 1.5856221914291382 | Generator Loss: 0.822877049446106\n",
      "\n",
      " Epoch: 14\n",
      "Batch 500/1875 | Discriminator Loss: 1.4018304347991943 | Generator Loss: 0.7094962000846863\n",
      "Batch 1000/1875 | Discriminator Loss: 1.2918378114700317 | Generator Loss: 0.6980981826782227\n",
      "Batch 1500/1875 | Discriminator Loss: 1.245185375213623 | Generator Loss: 0.8007751703262329\n",
      "\n",
      " Epoch: 15\n",
      "Batch 500/1875 | Discriminator Loss: 1.4063866138458252 | Generator Loss: 0.6880389451980591\n",
      "Batch 1000/1875 | Discriminator Loss: 1.344089388847351 | Generator Loss: 0.8948249220848083\n",
      "Batch 1500/1875 | Discriminator Loss: 1.375050663948059 | Generator Loss: 0.7473359704017639\n"
     ]
    },
    {
     "data": {
      "image/png": "[encoded data removed]",
      "text/plain": [
       "<Figure size 640x480 with 8 Axes>"
      ]
     },
     "metadata": {},
     "output_type": "display_data"
    },
    {
     "name": "stdout",
     "output_type": "stream",
     "text": [
      "\n",
      " Epoch: 16\n",
      "Batch 500/1875 | Discriminator Loss: 1.3152189254760742 | Generator Loss: 0.8707640171051025\n",
      "Batch 1000/1875 | Discriminator Loss: 1.3802478313446045 | Generator Loss: 0.6852668523788452\n",
      "Batch 1500/1875 | Discriminator Loss: 1.2821645736694336 | Generator Loss: 0.6823265552520752\n",
      "\n",
      " Epoch: 17\n",
      "Batch 500/1875 | Discriminator Loss: 1.3962149620056152 | Generator Loss: 0.7651469111442566\n",
      "Batch 1000/1875 | Discriminator Loss: 1.1447309255599976 | Generator Loss: 0.6972031593322754\n",
      "Batch 1500/1875 | Discriminator Loss: 1.4756269454956055 | Generator Loss: 0.6932510137557983\n",
      "\n",
      " Epoch: 18\n",
      "Batch 500/1875 | Discriminator Loss: 1.2461068630218506 | Generator Loss: 0.6872397661209106\n",
      "Batch 1000/1875 | Discriminator Loss: 1.4344251155853271 | Generator Loss: 0.8685746788978577\n",
      "Batch 1500/1875 | Discriminator Loss: 1.3687435388565063 | Generator Loss: 0.6776440739631653\n",
      "\n",
      " Epoch: 19\n",
      "Batch 500/1875 | Discriminator Loss: 1.3892889022827148 | Generator Loss: 0.7388972043991089\n",
      "Batch 1000/1875 | Discriminator Loss: 1.2736914157867432 | Generator Loss: 0.7979161739349365\n",
      "Batch 1500/1875 | Discriminator Loss: 1.3773887157440186 | Generator Loss: 0.6907515525817871\n",
      "\n",
      " Epoch: 20\n",
      "Batch 500/1875 | Discriminator Loss: 1.3469769954681396 | Generator Loss: 0.8528854250907898\n",
      "Batch 1000/1875 | Discriminator Loss: 1.3620615005493164 | Generator Loss: 0.7018758058547974\n",
      "Batch 1500/1875 | Discriminator Loss: 1.286157488822937 | Generator Loss: 0.7271641492843628\n"
     ]
    },
    {
     "data": {
      "image/png": "[encoded data removed]",
      "text/plain": [
       "<Figure size 640x480 with 8 Axes>"
      ]
     },
     "metadata": {},
     "output_type": "display_data"
    }
   ],
   "source": [
    "epochs = 20\n",
    "batch_size = 32\n",
    "mode_noise = 'uniform'\n",
    "noise_size = 100\n",
    "label_size = 10\n",
    "\n",
    "loss_d_all = []\n",
    "loss_g_all = []\n",
    "\n",
    "for epoch in range(epochs):\n",
    "    print(f\"\\n Epoch: {epoch+1}\")\n",
    "    loss_d, loss_g = train(data_loader,\n",
    "                           generator,\n",
    "                           discriminator,\n",
    "                           loss_fn,\n",
    "                           optimizer_d,\n",
    "                           optimizer_g,\n",
    "                           batch_size,\n",
    "                           noise_size,\n",
    "                           mode_noise,\n",
    "                           device)\n",
    "    loss_d_all.append(loss_d)\n",
    "    loss_g_all.append(loss_g)\n",
    "\n",
    "    if (epoch+1)% 5 == 0:\n",
    "        generator.eval()\n",
    "        with torch.inference_mode():\n",
    "            z = create_noise(batch_size,\n",
    "                             noise_size,\n",
    "                             mode_noise,\n",
    "                             device).unsqueeze(dim=2).unsqueeze(dim=3)\n",
    "                \n",
    "            labels_random = random_labels(data_size=10, batch_size=batch_size, device=device)\n",
    "\n",
    "            image_generated = generator(z, labels_random)\n",
    "            show_images(image_generated.cpu())"
   ]
  },
  {
   "cell_type": "code",
   "execution_count": 331,
   "metadata": {},
   "outputs": [
    {
     "data": {
      "image/png": "[encoded data removed]",
      "text/plain": [
       "<Figure size 640x480 with 8 Axes>"
      ]
     },
     "metadata": {},
     "output_type": "display_data"
    },
    {
     "name": "stdout",
     "output_type": "stream",
     "text": [
      "tensor([[[[0.]],\n",
      "\n",
      "         [[0.]],\n",
      "\n",
      "         [[0.]],\n",
      "\n",
      "         [[0.]],\n",
      "\n",
      "         [[1.]],\n",
      "\n",
      "         [[0.]],\n",
      "\n",
      "         [[0.]],\n",
      "\n",
      "         [[0.]],\n",
      "\n",
      "         [[0.]],\n",
      "\n",
      "         [[0.]]],\n",
      "\n",
      "\n",
      "        [[[0.]],\n",
      "\n",
      "         [[0.]],\n",
      "\n",
      "         [[0.]],\n",
      "\n",
      "         [[1.]],\n",
      "\n",
      "         [[0.]],\n",
      "\n",
      "         [[0.]],\n",
      "\n",
      "         [[0.]],\n",
      "\n",
      "         [[0.]],\n",
      "\n",
      "         [[0.]],\n",
      "\n",
      "         [[0.]]]], device='cuda:0')\n"
     ]
    }
   ],
   "source": [
    "generator.eval()\n",
    "with torch.inference_mode():\n",
    "            z = create_noise(batch_size,\n",
    "                             noise_size,\n",
    "                             mode_noise,\n",
    "                             device).unsqueeze(dim=2).unsqueeze(dim=3)\n",
    "                \n",
    "            labels_random = random_labels(data_size=10, batch_size=batch_size, device=device)\n",
    "\n",
    "            image_generated = generator(z, labels_random)\n",
    "            show_images(image_generated.cpu())\n",
    "            print(labels_random[0:2])"
   ]
  }
 ],
 "metadata": {
  "kernelspec": {
   "display_name": "base",
   "language": "python",
   "name": "python3"
  },
  "language_info": {
   "codemirror_mode": {
    "name": "ipython",
    "version": 3
   },
   "file_extension": ".py",
   "mimetype": "text/x-python",
   "name": "python",
   "nbconvert_exporter": "python",
   "pygments_lexer": "ipython3",
   "version": "3.12.4"
  }
 },
 "nbformat": 4,
 "nbformat_minor": 2
}
